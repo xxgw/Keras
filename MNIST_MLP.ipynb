{
 "cells": [
  {
   "cell_type": "code",
   "execution_count": 1,
   "metadata": {},
   "outputs": [
    {
     "name": "stderr",
     "output_type": "stream",
     "text": [
      "Using TensorFlow backend.\n"
     ]
    }
   ],
   "source": [
    "from __future__ import print_function\n",
    "\n",
    "import keras\n",
    "from keras.datasets import mnist\n",
    "from keras.models import Sequential\n",
    "from keras.layers import Dense, Dropout\n",
    "from keras.optimizers import RMSprop"
   ]
  },
  {
   "cell_type": "code",
   "execution_count": 2,
   "metadata": {
    "collapsed": true
   },
   "outputs": [],
   "source": [
    "batch_size = 128\n",
    "num_classes = 10\n",
    "epochs = 20"
   ]
  },
  {
   "cell_type": "code",
   "execution_count": 3,
   "metadata": {},
   "outputs": [
    {
     "name": "stdout",
     "output_type": "stream",
     "text": [
      "60000 train samples\n",
      "10000 test samples\n"
     ]
    }
   ],
   "source": [
    "# the data, split between train and test sets\n",
    "(x_train, y_train), (x_test, y_test) = mnist.load_data()\n",
    "\n",
    "x_train = x_train.reshape(60000, 784)\n",
    "x_test = x_test.reshape(10000, 784)\n",
    "x_train = x_train.astype('float32')\n",
    "x_test = x_test.astype('float32')\n",
    "x_train /= 255\n",
    "x_test /= 255\n",
    "print(x_train.shape[0], 'train samples')\n",
    "print(x_test.shape[0], 'test samples')"
   ]
  },
  {
   "cell_type": "code",
   "execution_count": 4,
   "metadata": {},
   "outputs": [
    {
     "name": "stdout",
     "output_type": "stream",
     "text": [
      "_________________________________________________________________\n",
      "Layer (type)                 Output Shape              Param #   \n",
      "=================================================================\n",
      "dense_1 (Dense)              (None, 512)               401920    \n",
      "_________________________________________________________________\n",
      "dropout_1 (Dropout)          (None, 512)               0         \n",
      "_________________________________________________________________\n",
      "dense_2 (Dense)              (None, 512)               262656    \n",
      "_________________________________________________________________\n",
      "dropout_2 (Dropout)          (None, 512)               0         \n",
      "_________________________________________________________________\n",
      "dense_3 (Dense)              (None, 10)                5130      \n",
      "=================================================================\n",
      "Total params: 669,706\n",
      "Trainable params: 669,706\n",
      "Non-trainable params: 0\n",
      "_________________________________________________________________\n"
     ]
    }
   ],
   "source": [
    "# convert class vectors to binary class matrices\n",
    "y_train = keras.utils.to_categorical(y_train, num_classes)\n",
    "y_test = keras.utils.to_categorical(y_test, num_classes)\n",
    "\n",
    "model = Sequential()\n",
    "model.add(Dense(512, activation='relu', input_shape=(784,)))\n",
    "model.add(Dropout(0.2))\n",
    "model.add(Dense(512, activation='relu'))\n",
    "model.add(Dropout(0.2))\n",
    "model.add(Dense(num_classes, activation='softmax'))\n",
    "\n",
    "model.summary()"
   ]
  },
  {
   "cell_type": "code",
   "execution_count": 5,
   "metadata": {},
   "outputs": [
    {
     "name": "stdout",
     "output_type": "stream",
     "text": [
      "Train on 60000 samples, validate on 10000 samples\n",
      "Epoch 1/20\n",
      "60000/60000 [==============================] - 20s 327us/step - loss: 0.2463 - acc: 0.9244 - val_loss: 0.1220 - val_acc: 0.9586\n",
      "Epoch 2/20\n",
      "60000/60000 [==============================] - 17s 288us/step - loss: 0.1056 - acc: 0.9678 - val_loss: 0.0970 - val_acc: 0.9690\n",
      "Epoch 3/20\n",
      "60000/60000 [==============================] - 11s 180us/step - loss: 0.0741 - acc: 0.9777 - val_loss: 0.0863 - val_acc: 0.9750\n",
      "Epoch 4/20\n",
      "60000/60000 [==============================] - 11s 175us/step - loss: 0.0589 - acc: 0.9816 - val_loss: 0.0838 - val_acc: 0.9762\n",
      "Epoch 5/20\n",
      "60000/60000 [==============================] - 11s 180us/step - loss: 0.0516 - acc: 0.9840 - val_loss: 0.0842 - val_acc: 0.9806\n",
      "Epoch 6/20\n",
      "60000/60000 [==============================] - 11s 175us/step - loss: 0.0423 - acc: 0.9871 - val_loss: 0.0773 - val_acc: 0.9811\n",
      "Epoch 7/20\n",
      "60000/60000 [==============================] - 18s 295us/step - loss: 0.0411 - acc: 0.9884 - val_loss: 0.0903 - val_acc: 0.9801\n",
      "Epoch 8/20\n",
      "60000/60000 [==============================] - 13s 212us/step - loss: 0.0358 - acc: 0.9896 - val_loss: 0.0774 - val_acc: 0.9821\n",
      "Epoch 9/20\n",
      "60000/60000 [==============================] - 11s 185us/step - loss: 0.0332 - acc: 0.9907 - val_loss: 0.0864 - val_acc: 0.9828\n",
      "Epoch 10/20\n",
      "60000/60000 [==============================] - 11s 180us/step - loss: 0.0333 - acc: 0.9910 - val_loss: 0.0850 - val_acc: 0.9824\n",
      "Epoch 11/20\n",
      "60000/60000 [==============================] - 11s 177us/step - loss: 0.0282 - acc: 0.9918 - val_loss: 0.0929 - val_acc: 0.9824\n",
      "Epoch 12/20\n",
      "60000/60000 [==============================] - 11s 178us/step - loss: 0.0267 - acc: 0.9927 - val_loss: 0.0997 - val_acc: 0.9814\n",
      "Epoch 13/20\n",
      "60000/60000 [==============================] - 11s 178us/step - loss: 0.0271 - acc: 0.9928 - val_loss: 0.0950 - val_acc: 0.9829\n",
      "Epoch 14/20\n",
      "60000/60000 [==============================] - 11s 179us/step - loss: 0.0241 - acc: 0.9931 - val_loss: 0.1041 - val_acc: 0.9836\n",
      "Epoch 15/20\n",
      "60000/60000 [==============================] - 11s 178us/step - loss: 0.0249 - acc: 0.9935 - val_loss: 0.0961 - val_acc: 0.9826\n",
      "Epoch 16/20\n",
      "60000/60000 [==============================] - 11s 178us/step - loss: 0.0208 - acc: 0.9944 - val_loss: 0.0873 - val_acc: 0.9844\n",
      "Epoch 17/20\n",
      "60000/60000 [==============================] - 12s 195us/step - loss: 0.0220 - acc: 0.9945 - val_loss: 0.1031 - val_acc: 0.9831\n",
      "Epoch 18/20\n",
      "60000/60000 [==============================] - 13s 209us/step - loss: 0.0205 - acc: 0.9947 - val_loss: 0.1176 - val_acc: 0.9821\n",
      "Epoch 19/20\n",
      "60000/60000 [==============================] - 16s 265us/step - loss: 0.0231 - acc: 0.9940 - val_loss: 0.1231 - val_acc: 0.9824\n",
      "Epoch 20/20\n",
      "60000/60000 [==============================] - 22s 362us/step - loss: 0.0215 - acc: 0.9947 - val_loss: 0.1153 - val_acc: 0.9820\n",
      "Test loss: 0.115309993224\n",
      "Test accuracy: 0.982\n"
     ]
    }
   ],
   "source": [
    "model.compile(loss='categorical_crossentropy',\n",
    "              optimizer=RMSprop(),\n",
    "              metrics=['accuracy'])\n",
    "\n",
    "history = model.fit(x_train, y_train,\n",
    "                    batch_size=batch_size,\n",
    "                    epochs=epochs,\n",
    "                    verbose=1,\n",
    "                    validation_data=(x_test, y_test))\n",
    "score = model.evaluate(x_test, y_test, verbose=0)\n",
    "print('Test loss:', score[0])\n",
    "print('Test accuracy:', score[1])"
   ]
  },
  {
   "cell_type": "code",
   "execution_count": 6,
   "metadata": {
    "collapsed": true
   },
   "outputs": [],
   "source": [
    "model.save('mnist.mlp.model')"
   ]
  },
  {
   "cell_type": "code",
   "execution_count": 20,
   "metadata": {},
   "outputs": [
    {
     "name": "stdout",
     "output_type": "stream",
     "text": [
      "<class 'numpy.ndarray'>\n",
      "(60000, 784)\n",
      "(784,)\n"
     ]
    }
   ],
   "source": [
    "print(type(x_train))\n",
    "print(x_train.shape)\n",
    "print(x_train[0].shape)"
   ]
  },
  {
   "cell_type": "code",
   "execution_count": 65,
   "metadata": {},
   "outputs": [],
   "source": [
    "result = model.predict_classes(x_test[:10])"
   ]
  },
  {
   "cell_type": "code",
   "execution_count": 66,
   "metadata": {},
   "outputs": [
    {
     "name": "stdout",
     "output_type": "stream",
     "text": [
      "[7 2 1 0 4 1 4 9 5 9]\n",
      "[[ 0.  0.  0.  0.  0.  0.  0.  1.  0.  0.]\n",
      " [ 0.  0.  1.  0.  0.  0.  0.  0.  0.  0.]\n",
      " [ 0.  1.  0.  0.  0.  0.  0.  0.  0.  0.]\n",
      " [ 1.  0.  0.  0.  0.  0.  0.  0.  0.  0.]\n",
      " [ 0.  0.  0.  0.  1.  0.  0.  0.  0.  0.]\n",
      " [ 0.  1.  0.  0.  0.  0.  0.  0.  0.  0.]\n",
      " [ 0.  0.  0.  0.  1.  0.  0.  0.  0.  0.]\n",
      " [ 0.  0.  0.  0.  0.  0.  0.  0.  0.  1.]\n",
      " [ 0.  0.  0.  0.  0.  1.  0.  0.  0.  0.]\n",
      " [ 0.  0.  0.  0.  0.  0.  0.  0.  0.  1.]]\n"
     ]
    }
   ],
   "source": [
    "print(result[:10])\n",
    "print(y_test[:10])"
   ]
  },
  {
   "cell_type": "code",
   "execution_count": 68,
   "metadata": {},
   "outputs": [
    {
     "data": {
      "text/plain": [
       "<matplotlib.image.AxesImage at 0x180e8405a90>"
      ]
     },
     "execution_count": 68,
     "metadata": {},
     "output_type": "execute_result"
    },
    {
     "data": {
      "image/png": "[encoded data removed]",
      "text/plain": [
       "<matplotlib.figure.Figure at 0x180e83184e0>"
      ]
     },
     "metadata": {},
     "output_type": "display_data"
    }
   ],
   "source": [
    "%matplotlib inline\n",
    "import matplotlib.pyplot as plt\n",
    "\n",
    "plt.imshow(x_test[0].reshape(28, 28))"
   ]
  },
  {
   "cell_type": "code",
   "execution_count": 102,
   "metadata": {},
   "outputs": [
    {
     "name": "stdout",
     "output_type": "stream",
     "text": [
      "(28, 28)\n"
     ]
    },
    {
     "data": {
      "image/png": "[encoded data removed]",
      "text/plain": [
       "<matplotlib.figure.Figure at 0x180e983f550>"
      ]
     },
     "metadata": {},
     "output_type": "display_data"
    }
   ],
   "source": [
    "import cv2\n",
    "\n",
    "%matplotlib inline\n",
    "import matplotlib.pyplot as plt\n",
    "#model = load_model('cnn_model_2.h5')\n",
    "img = cv2.imread('8.png', 0)\n",
    "plt.imshow(img)\n",
    "print(img.shape)"
   ]
  },
  {
   "cell_type": "code",
   "execution_count": 103,
   "metadata": {},
   "outputs": [
    {
     "name": "stdout",
     "output_type": "stream",
     "text": [
      "识别为：\n",
      "[6]\n"
     ]
    }
   ],
   "source": [
    "data = (img.reshape(1,784)).astype(\"float32\")\n",
    "predict = model.predict_classes(data)\n",
    "print ('识别为：')\n",
    "print (predict)"
   ]
  },
  {
   "cell_type": "code",
   "execution_count": null,
   "metadata": {
    "collapsed": true
   },
   "outputs": [],
   "source": []
  }
 ],
 "metadata": {
  "kernelspec": {
   "display_name": "Python 3",
   "language": "python",
   "name": "python3"
  },
  "language_info": {
   "codemirror_mode": {
    "name": "ipython",
    "version": 3
   },
   "file_extension": ".py",
   "mimetype": "text/x-python",
   "name": "python",
   "nbconvert_exporter": "python",
   "pygments_lexer": "ipython3",
   "version": "3.6.3"
  }
 },
 "nbformat": 4,
 "nbformat_minor": 2
}
