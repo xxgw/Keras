{
 "cells": [
  {
   "cell_type": "code",
   "execution_count": 18,
   "metadata": {},
   "outputs": [],
   "source": [
    "import cv2\n",
    "import os\n",
    "import numpy as np\n",
    "from keras.models import load_model\n",
    "\n",
    "%matplotlib inline\n",
    "import matplotlib.pyplot as plt"
   ]
  },
  {
   "cell_type": "code",
   "execution_count": 19,
   "metadata": {},
   "outputs": [],
   "source": [
    "#加载MLP模型\n",
    "model = load_model('minist/mnist.mlp.model')"
   ]
  },
  {
   "cell_type": "code",
   "execution_count": 30,
   "metadata": {},
   "outputs": [
    {
     "name": "stdout",
     "output_type": "stream",
     "text": [
      "2.png识别为：\n",
      "[2]\n",
      "3-1.png识别为：\n",
      "[3]\n",
      "3.png识别为：\n",
      "[2]\n",
      "5.png识别为：\n",
      "[5]\n",
      "6.png识别为：\n",
      "[2]\n",
      "7.png识别为：\n",
      "[7]\n",
      "8.png识别为：\n",
      "[6]\n",
      "9.png识别为：\n",
      "[4]\n"
     ]
    },
    {
     "data": {
      "image/png": "[encoded data removed]",
      "text/plain": [
       "<matplotlib.figure.Figure at 0x13fd2590>"
      ]
     },
     "metadata": {},
     "output_type": "display_data"
    }
   ],
   "source": [
    "#循环预测目录下的图片数字\n",
    "i = 1\n",
    "for filename in os.listdir('minist'): \n",
    "    img = cv2.imread('minist\\\\' + filename, 0)\n",
    "    #如果不是图片直接跳过不处理\n",
    "    if img is None:\n",
    "        continue\n",
    "    data = (img.reshape(1,784)).astype(\"float32\")\n",
    "    predict = model.predict_classes(data)\n",
    "        \n",
    "    print(filename + '识别为：')\n",
    "    print (predict)\n",
    "    \n",
    "    plt.subplot(2,5,i)\n",
    "    i = i + 1\n",
    "    plt.imshow(img)\n",
    "\n",
    "plt.show()"
   ]
  },
  {
   "cell_type": "code",
   "execution_count": null,
   "metadata": {
    "collapsed": true
   },
   "outputs": [],
   "source": []
  }
 ],
 "metadata": {
  "kernelspec": {
   "display_name": "Python 3",
   "language": "python",
   "name": "python3"
  },
  "language_info": {
   "codemirror_mode": {
    "name": "ipython",
    "version": 3
   },
   "file_extension": ".py",
   "mimetype": "text/x-python",
   "name": "python",
   "nbconvert_exporter": "python",
   "pygments_lexer": "ipython3",
   "version": "3.6.2"
  }
 },
 "nbformat": 4,
 "nbformat_minor": 2
}
